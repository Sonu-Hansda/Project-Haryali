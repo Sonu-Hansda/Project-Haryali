{
 "cells": [
  {
   "cell_type": "code",
   "execution_count": 26,
   "metadata": {},
   "outputs": [],
   "source": [
    "import pandas as pd\n",
    "import numpy as np\n",
    "import pickle"
   ]
  },
  {
   "cell_type": "code",
   "execution_count": 27,
   "metadata": {},
   "outputs": [],
   "source": [
    "try:\n",
    "    with open('models/crop_recommendation_model.pkl','rb') as file:\n",
    "        crop_recommendation_model = pickle.load(file)\n",
    "\n",
    "    with open('models/features/feature_names.pkl','rb') as file:\n",
    "        feature_names = pickle.load(file)\n",
    "except:\n",
    "    if (crop_recommendation_model is None or feature_names is None):\n",
    "        print('Error while loading models.')\n",
    "        print('Exited 1')\n"
   ]
  },
  {
   "cell_type": "code",
   "execution_count": 28,
   "metadata": {},
   "outputs": [],
   "source": [
    "feature_array = np.array([60, 55, 44, 23.0, 80, 6.5, 203.0])\n",
    "feature_array = pd.DataFrame([feature_array], \n",
    "                           columns=feature_names)"
   ]
  },
  {
   "cell_type": "code",
   "execution_count": 29,
   "metadata": {},
   "outputs": [],
   "source": [
    "prediction = crop_recommendation_model.predict(feature_array)\n",
    "probality = crop_recommendation_model.predict_proba(feature_array)\n",
    "recommended_crop = prediction[0]\n",
    "confidence = float(max(probality[0]))"
   ]
  },
  {
   "cell_type": "code",
   "execution_count": 34,
   "metadata": {},
   "outputs": [],
   "source": [
    "crops_prob = (crop_recommendation_model.classes_,probality)"
   ]
  },
  {
   "cell_type": "code",
   "execution_count": 35,
   "metadata": {},
   "outputs": [
    {
     "data": {
      "text/plain": [
       "(array(['apple', 'banana', 'blackgram', 'chickpea', 'coconut', 'coffee',\n",
       "        'cotton', 'grapes', 'jute', 'kidneybeans', 'lentil', 'maize',\n",
       "        'mango', 'mothbeans', 'mungbean', 'muskmelon', 'orange', 'papaya',\n",
       "        'pigeonpeas', 'pomegranate', 'rice', 'watermelon'], dtype=object),\n",
       " array([[0.  , 0.  , 0.01, 0.  , 0.  , 0.  , 0.  , 0.  , 0.4 , 0.  , 0.  ,\n",
       "         0.  , 0.  , 0.  , 0.03, 0.  , 0.  , 0.1 , 0.  , 0.02, 0.44, 0.  ]]))"
      ]
     },
     "execution_count": 35,
     "metadata": {},
     "output_type": "execute_result"
    }
   ],
   "source": [
    "crops_prob"
   ]
  },
  {
   "cell_type": "code",
   "execution_count": null,
   "metadata": {},
   "outputs": [],
   "source": []
  }
 ],
 "metadata": {
  "kernelspec": {
   "display_name": "venv",
   "language": "python",
   "name": "python3"
  },
  "language_info": {
   "codemirror_mode": {
    "name": "ipython",
    "version": 3
   },
   "file_extension": ".py",
   "mimetype": "text/x-python",
   "name": "python",
   "nbconvert_exporter": "python",
   "pygments_lexer": "ipython3",
   "version": "3.10.12"
  }
 },
 "nbformat": 4,
 "nbformat_minor": 2
}
